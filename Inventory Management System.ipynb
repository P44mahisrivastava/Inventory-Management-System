{
 "cells": [
  {
   "cell_type": "code",
   "execution_count": 1,
   "metadata": {},
   "outputs": [],
   "source": [
    "import json"
   ]
  },
  {
   "cell_type": "code",
   "execution_count": 2,
   "metadata": {},
   "outputs": [],
   "source": [
    "fd = open(\"Record.txt\",\"r\")\n",
    "txt = fd.read()\n",
    "fd.close()"
   ]
  },
  {
   "cell_type": "code",
   "execution_count": 3,
   "metadata": {},
   "outputs": [
    {
     "name": "stdout",
     "output_type": "stream",
     "text": [
      "Enter the product_Id: 1024\n",
      "Enter the quantity: 4\n",
      "***********************\n",
      "Product ID:  1024\n",
      "Name:  Handwash\n",
      "Price:  20\n",
      "Quant:  4\n",
      "------------------------\n",
      "Billing Amout:  80\n",
      "***********************\n"
     ]
    }
   ],
   "source": [
    "products = txt.split(\"\\n\")\n",
    "\n",
    "ui_prod  = str(input(\"Enter the product_Id: \"))\n",
    "ui_quant = int(input(\"Enter the quantity: \"))\n",
    "\n",
    "for product in products:\n",
    "    prod = product.split(\",\")\n",
    "    \n",
    "    \n",
    "    if(prod[0] == ui_prod):\n",
    "        print(\"***********************\")\n",
    "        print(\"Product ID: \", prod[0])\n",
    "        print(\"Name: \", prod[1])\n",
    "        print(\"Price: \",prod[2])\n",
    "        print(\"Quant: \",ui_quant)\n",
    "        print(\"------------------------\")\n",
    "        print(\"Billing Amout: \", ui_quant*int(prod[2]))\n",
    "        print(\"***********************\")"
   ]
  },
  {
   "cell_type": "code",
   "execution_count": 4,
   "metadata": {},
   "outputs": [],
   "source": [
    "new_record = []\n",
    "\n",
    "for product in products:\n",
    "    prod = product.split(\",\")\n",
    "    if(ui_prod == prod[0]):\n",
    "        prod[3] = str(int(prod[3]) - ui_quant)\n",
    "        \n",
    "    new_record.append(prod[0] + \",\" + prod[1] + \",\" + prod[2] + \",\" + prod[3] + \"\\n\")\n",
    "    \n",
    "new_record[-1] = new_record[-1][:-1]"
   ]
  },
  {
   "cell_type": "code",
   "execution_count": 5,
   "metadata": {},
   "outputs": [],
   "source": [
    "fd = open(\"Record.txt\", 'w')\n",
    "\n",
    "for i in new_record:\n",
    "    fd.write(i)\n",
    "    \n",
    "fd.close()"
   ]
  },
  {
   "cell_type": "code",
   "execution_count": null,
   "metadata": {},
   "outputs": [],
   "source": []
  },
  {
   "cell_type": "code",
   "execution_count": null,
   "metadata": {},
   "outputs": [],
   "source": []
  }
 ],
 "metadata": {
  "kernelspec": {
   "display_name": "Python 3",
   "language": "python",
   "name": "python3"
  },
  "language_info": {
   "codemirror_mode": {
    "name": "ipython",
    "version": 3
   },
   "file_extension": ".py",
   "mimetype": "text/x-python",
   "name": "python",
   "nbconvert_exporter": "python",
   "pygments_lexer": "ipython3",
   "version": "3.7.6"
  }
 },
 "nbformat": 4,
 "nbformat_minor": 4
}
